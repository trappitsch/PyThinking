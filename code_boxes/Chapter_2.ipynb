{
 "cells": [
  {
   "cell_type": "markdown",
   "metadata": {},
   "source": [
    "# Code boxes Chapter 2"
   ]
  },
  {
   "cell_type": "code",
   "execution_count": 1,
   "metadata": {},
   "outputs": [],
   "source": [
    "import numpy as np\n",
    "import matplotlib.pyplot as plt\n",
    "import seaborn as sns\n",
    "from scipy import stats\n",
    "import pymc3 as pm"
   ]
  },
  {
   "cell_type": "markdown",
   "metadata": {},
   "source": [
    "## Py code 2.1"
   ]
  },
  {
   "cell_type": "code",
   "execution_count": 2,
   "metadata": {},
   "outputs": [
    {
     "name": "stdout",
     "output_type": "stream",
     "text": [
      "[0.   0.15 0.4  0.45 0.  ]\n"
     ]
    }
   ],
   "source": [
    "ways = np.array([0, 3, 8, 9, 0])\n",
    "print(ways/np.sum(ways))"
   ]
  },
  {
   "cell_type": "markdown",
   "metadata": {},
   "source": [
    "## Py code 2.2\n",
    "\n",
    "*Note:* The `binom` function has many different things that can be done with it after it is initialized. The first part initializes it with a given total sample size and probability (n, p). The second part `pmf` calculates the probability mass function for `k=6`."
   ]
  },
  {
   "cell_type": "code",
   "execution_count": 3,
   "metadata": {},
   "outputs": [
    {
     "name": "stdout",
     "output_type": "stream",
     "text": [
      "0.16406250000000006\n"
     ]
    }
   ],
   "source": [
    "result = stats.binom.pmf(k=6, n=9, p=0.5)\n",
    "print(result)"
   ]
  },
  {
   "cell_type": "markdown",
   "metadata": {},
   "source": [
    "## Py code 2.3"
   ]
  },
  {
   "cell_type": "code",
   "execution_count": 4,
   "metadata": {},
   "outputs": [],
   "source": [
    "# define the grid\n",
    "p_grid = np.linspace(start=0, stop=1, num=20)\n",
    "\n",
    "# define prior\n",
    "prior = np.repeat(1, 20)\n",
    "\n",
    "# compute likelihood at each value in grid\n",
    "likelihood = result = stats.binom.pmf(k=6, n=9, p=p_grid)\n",
    "\n",
    "# compute product of likelihood and prior -> unstandardized\n",
    "unstd_posterior = likelihood * prior\n",
    "\n",
    "# standardize the posterior so it sums to 1\n",
    "posterior = unstd_posterior / np.sum(unstd_posterior)"
   ]
  },
  {
   "cell_type": "markdown",
   "metadata": {},
   "source": [
    "## Py code 2.4"
   ]
  },
  {
   "cell_type": "code",
   "execution_count": 5,
   "metadata": {},
   "outputs": [
    {
     "data": {
      "text/plain": [
       "Text(0.5, 1.0, '20 points')"
      ]
     },
     "execution_count": 5,
     "metadata": {},
     "output_type": "execute_result"
    },
    {
     "data": {
      "image/png": "[encoded data removed]",
      "text/plain": [
       "<Figure size 432x288 with 1 Axes>"
      ]
     },
     "metadata": {
      "needs_background": "light"
     },
     "output_type": "display_data"
    }
   ],
   "source": [
    "plt.plot(p_grid, posterior, '-o')\n",
    "plt.xlabel('probability of water')\n",
    "plt.ylabel('posterior probability')\n",
    "plt.title('20 points')"
   ]
  },
  {
   "cell_type": "markdown",
   "metadata": {},
   "source": [
    "## Py code 2.5"
   ]
  },
  {
   "cell_type": "code",
   "execution_count": 6,
   "metadata": {},
   "outputs": [],
   "source": [
    "prior = np.ones(len(p_grid))\n",
    "prior[np.where(p_grid < 0.5)] = 0\n",
    "\n",
    "prior = np.exp(-5 * np.abs(p_grid - 0.5))"
   ]
  },
  {
   "cell_type": "markdown",
   "metadata": {},
   "source": [
    "## Py code 2.6\n",
    "\n",
    "Adopted from [PyMC3 resources](https://github.com/pymc-devs/resources/blob/master/Rethinking_2/Chp_02.ipynb)"
   ]
  },
  {
   "cell_type": "code",
   "execution_count": 7,
   "metadata": {
    "scrolled": true
   },
   "outputs": [
    {
     "name": "stderr",
     "output_type": "stream",
     "text": [
      "Auto-assigning NUTS sampler...\n",
      "Initializing NUTS using jitter+adapt_diag...\n",
      "Multiprocess sampling (2 chains in 2 jobs)\n",
      "NUTS: [p]\n",
      "Sampling 2 chains, 0 divergences: 100%|██████████| 2000/2000 [00:00<00:00, 3213.28draws/s]\n",
      "logp = -1.8075, ||grad|| = 1.5: 100%|██████████| 7/7 [00:00<00:00, 2798.87it/s]\n"
     ]
    },
    {
     "name": "stdout",
     "output_type": "stream",
     "text": [
      "The center of the Gaussian (mean) is at 0.67 and its standard deviation is 0.16.\n"
     ]
    }
   ],
   "source": [
    "# 9 tosses, three L (0), 6 water (1)\n",
    "data = np.repeat((0,1), (3,6))\n",
    "# runt he quadratic approximation\n",
    "with pm.Model() as normal_approx:\n",
    "    p = pm.Uniform ('p', 0, 1)   # uniform prior\n",
    "    w = pm.Binomial('w', n=len(data), p=p, observed=data.sum())   # binomial likelihood\n",
    "    # find local maximum a posteriori with this model\n",
    "    pm.sample()\n",
    "    mean_q = pm.find_MAP()\n",
    "    # find the standard derivation\n",
    "    std_q = ((1 / pm.find_hessian(mean_q, vars=[p])) **0.5)[0]\n",
    "    \n",
    "# print the poserior value (mean) and the curvature value (stdev)\n",
    "print('The center of the Gaussian (mean) is at {0:.2f} and its standard '\n",
    "      'deviation is {1:.2f}.'.format(mean_q['p'], std_q[0]))"
   ]
  },
  {
   "cell_type": "code",
   "execution_count": 8,
   "metadata": {},
   "outputs": [
    {
     "data": {
      "text/plain": [
       "array([0.41553484, 0.91779849])"
      ]
     },
     "execution_count": 8,
     "metadata": {},
     "output_type": "execute_result"
    }
   ],
   "source": [
    "# Also calculate the 89% percentile interval and print it out\n",
    "norm = stats.norm(mean_q, std_q)\n",
    "prob = 0.89\n",
    "z = stats.norm.ppf([(1 - prob) / 2, (1 + prob) / 2])\n",
    "perc = mean_q[\"p\"] + std_q * z\n",
    "perc"
   ]
  },
  {
   "cell_type": "markdown",
   "metadata": {},
   "source": [
    "## Py code 2.7\n",
    "Adopted from [PyMC3 resources](https://github.com/pymc-devs/resources/blob/master/Rethinking_2/Chp_02.ipynb)"
   ]
  },
  {
   "cell_type": "code",
   "execution_count": 9,
   "metadata": {},
   "outputs": [
    {
     "data": {
      "text/plain": [
       "<matplotlib.legend.Legend at 0x7f1e491f05d0>"
      ]
     },
     "execution_count": 9,
     "metadata": {},
     "output_type": "execute_result"
    },
    {
     "data": {
      "image/png": "[encoded data removed]",
      "text/plain": [
       "<Figure size 432x288 with 1 Axes>"
      ]
     },
     "metadata": {
      "needs_background": "light"
     },
     "output_type": "display_data"
    }
   ],
   "source": [
    "# Analytical calculation\n",
    "W = 6\n",
    "L = 3\n",
    "\n",
    "# create the plot\n",
    "x = np.arange(0, 1, 0.01)   # create an x array for beta function calc\n",
    "plt.plot(x, stats.beta.pdf(x, W+1, L+1), '--', label='True')\n",
    "plt.plot(x, stats.norm.pdf(x, mean_q[\"p\"], std_q), label='Quadratic approx.')\n",
    "\n",
    "# formatting of plot\n",
    "plt.title('n=9')\n",
    "plt.xlabel('proportion water')\n",
    "plt.ylabel('Density')\n",
    "plt.legend(loc='upper left')"
   ]
  },
  {
   "cell_type": "markdown",
   "metadata": {},
   "source": [
    "## Py code 2.8"
   ]
  },
  {
   "cell_type": "code",
   "execution_count": 10,
   "metadata": {},
   "outputs": [],
   "source": [
    "n_samples = 1000\n",
    "p = np.empty(n_samples)\n",
    "\n",
    "# assign the first value\n",
    "p[0] = 0.5\n",
    "W = 6\n",
    "L = 3\n",
    "ntot = W + L\n",
    "\n",
    "# loop\n",
    "for it in range(1, n_samples):\n",
    "    # std * randn() + mean\n",
    "    p_new = 0.1 * np.random.randn() + p[it - 1]\n",
    "    if p_new < 0:\n",
    "        p_new = np.abs(p_new)\n",
    "    elif p_new > 1:\n",
    "        p_new = 2 - p_new\n",
    "    q0 = stats.binom.pmf(k=W, n=ntot, p=p[it - 1])\n",
    "    q1 = stats.binom.pmf(k=W, n=ntot, p=p_new)\n",
    "    # draw a random number from 0 to 1\n",
    "    if np.random.rand() < q1 / q0:\n",
    "        p[it] = p_new\n",
    "    else:\n",
    "        p[it] = p[it - 1]"
   ]
  },
  {
   "cell_type": "markdown",
   "metadata": {},
   "source": [
    "## Py code 2.9\n",
    "\n",
    "*Note*: Instead of the `dens` function that is used in the book and which is part of the `rethinking` package, a `kdeplot` from the seaborns package is used here, which plots a univariate kernel density estimate. The standard configuration is smoother than the plot that is created by the `dens` function in the `rethinking` package. We can make this plot \"rougher\" by selecting a lower bandwidth, e.g., `bw=0.1` as selected below."
   ]
  },
  {
   "cell_type": "code",
   "execution_count": 11,
   "metadata": {},
   "outputs": [
    {
     "data": {
      "text/plain": [
       "Text(0, 0.5, 'Density')"
      ]
     },
     "execution_count": 11,
     "metadata": {},
     "output_type": "execute_result"
    },
    {
     "data": {
      "image/png": "[encoded data removed]",
      "text/plain": [
       "<Figure size 432x288 with 1 Axes>"
      ]
     },
     "metadata": {
      "needs_background": "light"
     },
     "output_type": "display_data"
    }
   ],
   "source": [
    "# density plot using seaborn's distplot routine\n",
    "sns.kdeplot(p, bw=0.1)\n",
    "# plot the \"true\" distributio with scipy.stats beta function\n",
    "x = np.arange(0, 1, 0.01)   # create an x array for beta function calc\n",
    "plt.plot(x, stats.beta.pdf(x, W+1, L+1), '--')\n",
    "plt.xlim(0, 1)\n",
    "plt.ylabel('Density')"
   ]
  },
  {
   "cell_type": "code",
   "execution_count": null,
   "metadata": {},
   "outputs": [],
   "source": []
  }
 ],
 "metadata": {
  "kernelspec": {
   "display_name": "Python 3",
   "language": "python",
   "name": "python3"
  },
  "language_info": {
   "codemirror_mode": {
    "name": "ipython",
    "version": 3
   },
   "file_extension": ".py",
   "mimetype": "text/x-python",
   "name": "python",
   "nbconvert_exporter": "python",
   "pygments_lexer": "ipython3",
   "version": "3.7.6"
  }
 },
 "nbformat": 4,
 "nbformat_minor": 4
}
