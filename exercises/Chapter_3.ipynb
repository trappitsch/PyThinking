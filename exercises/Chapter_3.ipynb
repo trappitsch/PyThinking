{
 "cells": [
  {
   "cell_type": "markdown",
   "metadata": {},
   "source": [
    "# Exercises chapter 3\n",
    "\n",
    "Help from [https://jmgirard.com/statistical-rethinking-ch3/](https://jmgirard.com/statistical-rethinking-ch3/) and [https://github.com/jffist/statistical-rethinking-solutions/blob/master/ch03_hw.R](https://github.com/jffist/statistical-rethinking-solutions/blob/master/ch03_hw.R).\n"
   ]
  },
  {
   "cell_type": "code",
   "execution_count": 1,
   "metadata": {},
   "outputs": [],
   "source": [
    "import numpy as np\n",
    "import matplotlib.pyplot as plt\n",
    "import seaborn as sns\n",
    "from scipy import stats\n",
    "import pymc3 as pm"
   ]
  },
  {
   "cell_type": "markdown",
   "metadata": {},
   "source": [
    "## Py code 3.27\n",
    "\n",
    "Code and data setup for the exercises"
   ]
  },
  {
   "cell_type": "code",
   "execution_count": 2,
   "metadata": {},
   "outputs": [],
   "source": [
    "p_grid = np.linspace(0, 1, num=1000)\n",
    "prior = np.ones(1000)\n",
    "likelihood = stats.binom.pmf(k=6, n=9, p=p_grid)\n",
    "posterior = likelihood * prior\n",
    "posterior /= np.sum(posterior)\n",
    "np.random.seed(100)\n",
    "samples = np.random.choice(p_grid, p=posterior, size=int(1e4), replace=True)"
   ]
  },
  {
   "cell_type": "code",
   "execution_count": 3,
   "metadata": {},
   "outputs": [
    {
     "data": {
      "text/plain": [
       "Text(0, 0.5, 'posterior')"
      ]
     },
     "execution_count": 3,
     "metadata": {},
     "output_type": "execute_result"
    },
    {
     "data": {
      "image/png": "[encoded data removed]",
      "text/plain": [
       "<Figure size 432x288 with 1 Axes>"
      ]
     },
     "metadata": {
      "needs_background": "light"
     },
     "output_type": "display_data"
    }
   ],
   "source": [
    "# Let's make a plot of the posterior to have some idea what it looks like\n",
    "plt.plot(p_grid, posterior, '-')\n",
    "plt.xlabel('p')\n",
    "plt.ylabel('posterior')"
   ]
  },
  {
   "cell_type": "markdown",
   "metadata": {},
   "source": [
    "## 3E1."
   ]
  },
  {
   "cell_type": "code",
   "execution_count": 4,
   "metadata": {},
   "outputs": [
    {
     "name": "stdout",
     "output_type": "stream",
     "text": [
      "0.09% posterior probability lies below p=0.2.\n"
     ]
    }
   ],
   "source": [
    "pprob = np.sum(posterior[np.where(p_grid < 0.2)])\n",
    "print('{0:.2f}% posterior probability lies below p=0.2.'.format(pprob*100))"
   ]
  },
  {
   "cell_type": "code",
   "execution_count": 5,
   "metadata": {},
   "outputs": [
    {
     "name": "stdout",
     "output_type": "stream",
     "text": [
      "0.10% posterior probability (samples) is below p=0.2.\n"
     ]
    }
   ],
   "source": [
    "# The same with the samples\n",
    "sprob = sum(samples < 0.2) / 1e4\n",
    "print('{0:.2f}% posterior probability (samples) is below p=0.2.'.format(sprob*100))"
   ]
  },
  {
   "cell_type": "markdown",
   "metadata": {},
   "source": [
    "## 3E2."
   ]
  },
  {
   "cell_type": "code",
   "execution_count": 6,
   "metadata": {},
   "outputs": [
    {
     "name": "stdout",
     "output_type": "stream",
     "text": [
      "12.03% posterior probability lies above p=0.8.\n"
     ]
    }
   ],
   "source": [
    "pprob = np.sum(posterior[np.where(p_grid > 0.8)])\n",
    "print('{0:.2f}% posterior probability lies above p=0.8.'.format(pprob*100))"
   ]
  },
  {
   "cell_type": "code",
   "execution_count": 7,
   "metadata": {},
   "outputs": [
    {
     "name": "stdout",
     "output_type": "stream",
     "text": [
      "12.09% posterior probability (samples) is above p=0.8.\n"
     ]
    }
   ],
   "source": [
    "# The same with the samples\n",
    "sprob = sum(samples > 0.8) / 1e4\n",
    "print('{0:.2f}% posterior probability (samples) is above p=0.8.'.format(sprob*100))"
   ]
  },
  {
   "cell_type": "markdown",
   "metadata": {},
   "source": [
    "## 3E3."
   ]
  },
  {
   "cell_type": "code",
   "execution_count": 8,
   "metadata": {},
   "outputs": [
    {
     "name": "stdout",
     "output_type": "stream",
     "text": [
      "87.88% posterior probability lies between p=0.2 and p=0.8.\n"
     ]
    }
   ],
   "source": [
    "pprob = np.sum(posterior[np.where(p_grid < 0.8)]) - \\\n",
    "        np.sum(posterior[np.where(p_grid < 0.2)])\n",
    "print('{0:.2f}% posterior probability lies between p=0.2 and p=0.8.'.format(pprob*100))"
   ]
  },
  {
   "cell_type": "markdown",
   "metadata": {},
   "source": [
    "## 3E4."
   ]
  },
  {
   "cell_type": "code",
   "execution_count": 9,
   "metadata": {},
   "outputs": [
    {
     "name": "stdout",
     "output_type": "stream",
     "text": [
      "The value of p where 20% of the posterior lies below is 0.52.\n"
     ]
    }
   ],
   "source": [
    "# Loop through the posterior while summing up and comparing to the max. Get index\n",
    "index = 0\n",
    "partial_sum = 0\n",
    "while partial_sum < 0.2:\n",
    "    partial_sum += posterior[index]\n",
    "    index += 1\n",
    "    \n",
    "# get the p value at the found index\n",
    "p_value = p_grid[index - 1]\n",
    "print('The value of p where 20% of the posterior lies below is {0:.2f}.'.format(p_value))"
   ]
  },
  {
   "cell_type": "code",
   "execution_count": 10,
   "metadata": {},
   "outputs": [
    {
     "name": "stdout",
     "output_type": "stream",
     "text": [
      "The 20% quantile of the sampled data is 0.52.\n"
     ]
    }
   ],
   "source": [
    "# In fact, we could have done the same with the samples and determining the 20% quantile\n",
    "quant = np.quantile(samples, 0.2)\n",
    "print('The 20% quantile of the sampled data is {0:.2f}.'.format(quant))"
   ]
  },
  {
   "cell_type": "markdown",
   "metadata": {},
   "source": [
    "## 3E5."
   ]
  },
  {
   "cell_type": "code",
   "execution_count": 11,
   "metadata": {},
   "outputs": [
    {
     "name": "stdout",
     "output_type": "stream",
     "text": [
      "The value of p where 20% of the posterior lies above is 0.76.\n"
     ]
    }
   ],
   "source": [
    "# Loop as before but from the back and move down\n",
    "index = -1\n",
    "partial_sum = 0\n",
    "while partial_sum < 0.2:\n",
    "    partial_sum += posterior[index]\n",
    "    index -= 1\n",
    "    \n",
    "# get the p value at the found index\n",
    "p_value = p_grid[index - 1]\n",
    "print('The value of p where 20% of the posterior lies above is {0:.2f}.'.format(p_value))"
   ]
  },
  {
   "cell_type": "code",
   "execution_count": 12,
   "metadata": {},
   "outputs": [
    {
     "name": "stdout",
     "output_type": "stream",
     "text": [
      "The 80% quantile of the sampled data is 0.76.\n"
     ]
    }
   ],
   "source": [
    "# Same comparison with quantiles as in 2E4.\n",
    "quant = np.quantile(samples, 0.8)\n",
    "print('The 80% quantile of the sampled data is {0:.2f}.'.format(quant))"
   ]
  },
  {
   "cell_type": "markdown",
   "metadata": {},
   "source": [
    "## 3E6.\n",
    "This is basically how the highest posterior density interval (HDPI) is defined. The calculations is a lot easier on the samples than on the posterior itself, so we'll focus here now on the samples."
   ]
  },
  {
   "cell_type": "code",
   "execution_count": 13,
   "metadata": {},
   "outputs": [
    {
     "data": {
      "text/plain": [
       "array([0.51651652, 0.78878879])"
      ]
     },
     "execution_count": 13,
     "metadata": {},
     "output_type": "execute_result"
    }
   ],
   "source": [
    "pm.stats.hpd(samples, credible_interval=0.66)"
   ]
  },
  {
   "cell_type": "markdown",
   "metadata": {},
   "source": [
    "## 3E7."
   ]
  },
  {
   "cell_type": "code",
   "execution_count": 14,
   "metadata": {},
   "outputs": [
    {
     "data": {
      "text/plain": [
       "array([0.4984985 , 0.77294294])"
      ]
     },
     "execution_count": 14,
     "metadata": {},
     "output_type": "execute_result"
    }
   ],
   "source": [
    "np.percentile(samples, [17, 83])"
   ]
  },
  {
   "cell_type": "markdown",
   "metadata": {},
   "source": [
    "## 3M1.\n",
    "\n",
    "For this exercise we can simply copy Py code 3.27 and adjust the numbers to the n=15 and k=8. The prior can stay uniform (flat) as before, the grid approximation is already implemented."
   ]
  },
  {
   "cell_type": "code",
   "execution_count": 15,
   "metadata": {},
   "outputs": [
    {
     "data": {
      "text/plain": [
       "Text(0, 0.5, 'posterior')"
      ]
     },
     "execution_count": 15,
     "metadata": {},
     "output_type": "execute_result"
    },
    {
     "data": {
      "image/png": "[encoded data removed]",
      "text/plain": [
       "<Figure size 432x288 with 1 Axes>"
      ]
     },
     "metadata": {
      "needs_background": "light"
     },
     "output_type": "display_data"
    }
   ],
   "source": [
    "p_grid = np.linspace(0, 1, num=1000)\n",
    "prior = np.ones(1000)\n",
    "likelihood = stats.binom.pmf(k=8, n=15, p=p_grid)\n",
    "posterior = likelihood * prior\n",
    "posterior /= np.sum(posterior)\n",
    "\n",
    "# Let's plot it to see what is going on\n",
    "plt.plot(p_grid, posterior, '-')\n",
    "plt.xlabel('p')\n",
    "plt.ylabel('posterior')"
   ]
  },
  {
   "cell_type": "markdown",
   "metadata": {},
   "source": [
    "## 3M2."
   ]
  },
  {
   "cell_type": "code",
   "execution_count": 16,
   "metadata": {},
   "outputs": [
    {
     "data": {
      "text/plain": [
       "array([0.33733734, 0.72572573])"
      ]
     },
     "execution_count": 16,
     "metadata": {},
     "output_type": "execute_result"
    }
   ],
   "source": [
    "# Define a random number seed, this will be handy for later\n",
    "np.random.seed(100)\n",
    "\n",
    "# Draw 10000 samples from the posterior\n",
    "samples = np.random.choice(p_grid, p=posterior, size=int(1e4), replace=True)\n",
    "\n",
    "# Calculate and print 90% HDPI\n",
    "pm.stats.hpd(samples, credible_interval=0.9)"
   ]
  },
  {
   "cell_type": "markdown",
   "metadata": {},
   "source": [
    "## 3M3.\n",
    "\n",
    "First let's draw 10000 samples from a binomial distribution that have size 15 and the simulated samples as the probability. This is the same as was done in the book on page 66, Py code 3.26."
   ]
  },
  {
   "cell_type": "code",
   "execution_count": 17,
   "metadata": {},
   "outputs": [
    {
     "data": {
      "image/png": "[encoded data removed]",
      "text/plain": [
       "<Figure size 432x288 with 1 Axes>"
      ]
     },
     "metadata": {
      "needs_background": "light"
     },
     "output_type": "display_data"
    }
   ],
   "source": [
    "w = stats.binom.rvs(n=15, p=samples, size=int(1e4))\n",
    "\n",
    "# also plot\n",
    "plt.hist(w, bins=np.arange(-0.5, 16, 1), rwidth=0.1)\n",
    "plt.show()"
   ]
  },
  {
   "cell_type": "markdown",
   "metadata": {},
   "source": [
    "The histogram shows us that the most likely outcome is 8. Let's calculate the probability to have 8 out of 15 being water from these samples."
   ]
  },
  {
   "cell_type": "code",
   "execution_count": 18,
   "metadata": {},
   "outputs": [
    {
     "name": "stdout",
     "output_type": "stream",
     "text": [
      "The probability to have 8 water in 15 tosses is 14.58%.\n"
     ]
    }
   ],
   "source": [
    "prob8 = np.sum(w==8) / 1e4\n",
    "print('The probability to have 8 water in 15 tosses is {0:.2f}%.'.format(prob8*100))"
   ]
  },
  {
   "cell_type": "markdown",
   "metadata": {},
   "source": [
    "## 3M4.\n",
    "\n",
    "We can simply draw new samples with 9 tosses total and choose the probability from the samples, then find the probability of 6 tosses."
   ]
  },
  {
   "cell_type": "code",
   "execution_count": 19,
   "metadata": {},
   "outputs": [
    {
     "data": {
      "image/png": "[encoded data removed]",
      "text/plain": [
       "<Figure size 432x288 with 1 Axes>"
      ]
     },
     "metadata": {
      "needs_background": "light"
     },
     "output_type": "display_data"
    }
   ],
   "source": [
    "w2 = stats.binom.rvs(n=9, p=samples, size=int(1e4))\n",
    "\n",
    "# also plot\n",
    "plt.hist(w2, bins=np.arange(-0.5, 10, 1), rwidth=0.1)\n",
    "plt.show()"
   ]
  },
  {
   "cell_type": "code",
   "execution_count": 20,
   "metadata": {},
   "outputs": [
    {
     "name": "stdout",
     "output_type": "stream",
     "text": [
      "The probability to have 6 water in 9 tosses is 17.29%.\n"
     ]
    }
   ],
   "source": [
    "prob6 = np.sum(w2==6) / 1e4\n",
    "print('The probability to have 6 water in 9 tosses is {0:.2f}%.'.format(prob6*100))"
   ]
  },
  {
   "cell_type": "markdown",
   "metadata": {},
   "source": [
    "## 3M5."
   ]
  },
  {
   "cell_type": "code",
   "execution_count": 21,
   "metadata": {},
   "outputs": [
    {
     "data": {
      "text/plain": [
       "Text(0, 0.5, 'posterior')"
      ]
     },
     "execution_count": 21,
     "metadata": {},
     "output_type": "execute_result"
    },
    {
     "data": {
      "image/png": "[encoded data removed]",
      "text/plain": [
       "<Figure size 432x288 with 1 Axes>"
      ]
     },
     "metadata": {
      "needs_background": "light"
     },
     "output_type": "display_data"
    }
   ],
   "source": [
    "p_grid = np.linspace(0, 1, num=1000)\n",
    "prior = np.ones(1000)\n",
    "# set to 0 for p_grid < 0.5\n",
    "prior[np.where(p_grid < 0.5)] = 0\n",
    "likelihood = stats.binom.pmf(k=8, n=15, p=p_grid)\n",
    "posterior = likelihood * prior\n",
    "posterior /= np.sum(posterior)\n",
    "\n",
    "# plot the posterior\n",
    "plt.plot(p_grid, posterior, '-')\n",
    "plt.xlabel('p')\n",
    "plt.ylabel('posterior')"
   ]
  },
  {
   "cell_type": "code",
   "execution_count": 22,
   "metadata": {},
   "outputs": [],
   "source": [
    "# Use the same seed as before to have a real comparison\n",
    "np.random.seed(100)\n",
    "\n",
    "# draw 10000 samples\n",
    "samples = np.random.choice(p_grid, p=posterior, size=int(1e4), replace=True)"
   ]
  },
  {
   "cell_type": "markdown",
   "metadata": {},
   "source": [
    "### 90% HPDI"
   ]
  },
  {
   "cell_type": "code",
   "execution_count": 23,
   "metadata": {},
   "outputs": [
    {
     "data": {
      "text/plain": [
       "array([0.5005005 , 0.71271271])"
      ]
     },
     "execution_count": 23,
     "metadata": {},
     "output_type": "execute_result"
    }
   ],
   "source": [
    "pm.stats.hpd(samples, credible_interval=0.9)"
   ]
  },
  {
   "cell_type": "markdown",
   "metadata": {},
   "source": [
    "Of course this interval is much higher and starts at p=0.5. The reason for this is that it is the narrowest interval possible and below p=0.5 nothing can be added."
   ]
  },
  {
   "cell_type": "markdown",
   "metadata": {},
   "source": [
    "### Posterior predictive check and probability to have 8/15 water tosses"
   ]
  },
  {
   "cell_type": "code",
   "execution_count": 24,
   "metadata": {},
   "outputs": [
    {
     "data": {
      "image/png": "[encoded data removed]",
      "text/plain": [
       "<Figure size 432x288 with 1 Axes>"
      ]
     },
     "metadata": {
      "needs_background": "light"
     },
     "output_type": "display_data"
    }
   ],
   "source": [
    "w = stats.binom.rvs(n=15, p=samples, size=int(1e4))\n",
    "\n",
    "# also plot\n",
    "plt.hist(w, bins=np.arange(-0.5, 16, 1), rwidth=0.1)\n",
    "plt.show()"
   ]
  },
  {
   "cell_type": "code",
   "execution_count": 25,
   "metadata": {},
   "outputs": [
    {
     "name": "stdout",
     "output_type": "stream",
     "text": [
      "The probability to have 8 water in 15 tosses is 15.69%.\n"
     ]
    }
   ],
   "source": [
    "prob8 = np.sum(w==8) / 1e4\n",
    "print('The probability to have 8 water in 15 tosses is {0:.2f}%.'.format(prob8*100))"
   ]
  },
  {
   "cell_type": "markdown",
   "metadata": {},
   "source": [
    "The chance is slightly higher than before, it increased from 14.6% to 15.7%. In fact, the histogram is also slightly skewed towards higher values. This makes sense when looking at the plot of the posterior before."
   ]
  },
  {
   "cell_type": "markdown",
   "metadata": {},
   "source": [
    "### Repeat and check probability for 6 out of 9 tosses"
   ]
  },
  {
   "cell_type": "code",
   "execution_count": 26,
   "metadata": {},
   "outputs": [
    {
     "data": {
      "image/png": "[encoded data removed]",
      "text/plain": [
       "<Figure size 432x288 with 1 Axes>"
      ]
     },
     "metadata": {
      "needs_background": "light"
     },
     "output_type": "display_data"
    }
   ],
   "source": [
    "w2 = stats.binom.rvs(n=9, p=samples, size=int(1e4))\n",
    "\n",
    "# plot\n",
    "plt.hist(w2, bins=np.arange(-0.5, 10, 1), rwidth=0.1)\n",
    "plt.show()"
   ]
  },
  {
   "cell_type": "code",
   "execution_count": 27,
   "metadata": {},
   "outputs": [
    {
     "name": "stdout",
     "output_type": "stream",
     "text": [
      "The probability to have 6 water in 9 tosses is 23.35%.\n"
     ]
    }
   ],
   "source": [
    "prob6 = np.sum(w2==6) / 1e4\n",
    "print('The probability to have 6 water in 9 tosses is {0:.2f}%.'.format(prob6*100))"
   ]
  },
  {
   "cell_type": "markdown",
   "metadata": {},
   "source": [
    "This probability went up significantly from 17.3% to 23.4%. These are just numbers though. The really impressive picture is the histogram. Clearly, with the new prior, 6 waters out of 9 tosses is not the most probably outcome, while it was 5 out of 9 tosses before. This makes sense and is based on the fact that the distribution is more skewed now due to the new prior."
   ]
  },
  {
   "cell_type": "markdown",
   "metadata": {},
   "source": [
    "## 3M6."
   ]
  },
  {
   "cell_type": "code",
   "execution_count": 28,
   "metadata": {},
   "outputs": [],
   "source": [
    "# set the p_grid and prior before outside the following subroutine\n",
    "p_grid = np.linspace(0, 1, num=1000)\n",
    "prior = np.ones(1000)\n",
    "\n",
    "# define the number of samples to draw for comparisons\n",
    "n_samples = 10000\n",
    "\n",
    "# first let's write a subroutine that calculates the 99% percentile for n tosses\n",
    "def calc_99pi(n):\n",
    "    # calculate k given a certain probability, let's assume p=0.7\n",
    "    k = int(0.7 * n)\n",
    "    likelihood = stats.binom.pmf(k=k, n=n, p=p_grid)\n",
    "    posterior = likelihood * prior\n",
    "    posterior /= np.sum(posterior)\n",
    "    \n",
    "    # set numpy random seed and draw samples\n",
    "    np.random.seed(100)\n",
    "    # draw samples\n",
    "    samples = np.random.choice(p_grid, p=posterior, size=int(1e4), replace=True)\n",
    "    \n",
    "    # calculate 99% percentile\n",
    "    perc = np.percentile(samples, [0.5, 99.5])\n",
    "    \n",
    "    # calculate and return the width of the 99% percentile\n",
    "    return perc[1] - perc[0]"
   ]
  },
  {
   "cell_type": "code",
   "execution_count": 29,
   "metadata": {},
   "outputs": [
    {
     "name": "stdout",
     "output_type": "stream",
     "text": [
      "100 tosses will result in an interval width of 0.23.\n"
     ]
    }
   ],
   "source": [
    "# now we can test above subroutine for a few values\n",
    "width = calc_99pi(100)\n",
    "print('100 tosses will result in an interval width of {0:.2f}.'.format(width))"
   ]
  },
  {
   "cell_type": "code",
   "execution_count": 30,
   "metadata": {},
   "outputs": [
    {
     "name": "stdout",
     "output_type": "stream",
     "text": [
      "1000 tosses will result in an interval width of 0.07.\n"
     ]
    }
   ],
   "source": [
    "width = calc_99pi(1000)\n",
    "print('1000 tosses will result in an interval width of {0:.2f}.'.format(width))"
   ]
  },
  {
   "cell_type": "code",
   "execution_count": 31,
   "metadata": {},
   "outputs": [
    {
     "name": "stdout",
     "output_type": "stream",
     "text": [
      "3000 tosses will result in an interval width of 0.04.\n"
     ]
    }
   ],
   "source": [
    "width = calc_99pi(3000)\n",
    "print('3000 tosses will result in an interval width of {0:.2f}.'.format(width))"
   ]
  },
  {
   "cell_type": "markdown",
   "metadata": {},
   "source": [
    "Looks like it's somewhere between 1000 and 3000 tosses. Let's go a bit overboard here and simulate it for every number between 1000 and 3000, then check at how many tosses we hit the width of 99% percentile interval is for the first time <0.05."
   ]
  },
  {
   "cell_type": "code",
   "execution_count": 32,
   "metadata": {},
   "outputs": [
    {
     "data": {
      "text/plain": [
       "Text(0, 0.5, 'Width of 99% percentile interval')"
      ]
     },
     "execution_count": 32,
     "metadata": {},
     "output_type": "execute_result"
    },
    {
     "data": {
      "image/png": "[encoded data removed]",
      "text/plain": [
       "<Figure size 432x288 with 1 Axes>"
      ]
     },
     "metadata": {
      "needs_background": "light"
     },
     "output_type": "display_data"
    }
   ],
   "source": [
    "test_grid = np.arange(1000, 3000, 1)\n",
    "\n",
    "# get all the widths\n",
    "widths = np.empty(len(test_grid))\n",
    "for index, nsamples in enumerate(test_grid):\n",
    "    widths[index] = calc_99pi(nsamples)\n",
    "    \n",
    "# plot the width to check it out and plot a vertical line at p=0.05\n",
    "plt.plot(test_grid, widths, '-')\n",
    "plt.hlines(0.05, xmin=1000, xmax=3000)\n",
    "plt.xlabel('Number of tosses (n)')\n",
    "plt.ylabel('Width of 99% percentile interval')"
   ]
  },
  {
   "cell_type": "code",
   "execution_count": 33,
   "metadata": {},
   "outputs": [
    {
     "data": {
      "text/plain": [
       "2202"
      ]
     },
     "execution_count": 33,
     "metadata": {},
     "output_type": "execute_result"
    }
   ],
   "source": [
    "# now go through the list and find where we are the first time below 0.5\n",
    "test_grid[np.min(np.where(widths < 0.05))]"
   ]
  },
  {
   "cell_type": "markdown",
   "metadata": {},
   "source": [
    "This means that after 2202 samples the width of 99% percentile interval is smaller than 0.05."
   ]
  },
  {
   "cell_type": "markdown",
   "metadata": {},
   "source": [
    "## Hard: data from Py code 3.28"
   ]
  },
  {
   "cell_type": "code",
   "execution_count": 34,
   "metadata": {},
   "outputs": [],
   "source": [
    "birth1 = np.array([1,0,0,0,1,1,0,1,0,1,0,0,1,1,0,1,1,0,0,0,1,0,0,0,1,0,\n",
    "                   0,0,0,1,1,1,0,1,0,1,1,1,0,1,0,1,1,0,1,0,0,1,1,0,1,0,\n",
    "                   0,0,0,0,0,0,1,1,0,1,0,0,1,0,0,0,1,0,0,1,1,1,1,0,1,0,\n",
    "                   1,1,1,1,1,0,0,1,0,1,1,0,1,0,1,1,1,0,1,1,1,1])\n",
    "birth2 = np.array([0,1,0,1,0,1,1,1,0,0,1,1,1,1,1,0,0,1,1,1,0,0,1,1,1,0,\n",
    "                   1,1,1,0,1,1,1,0,1,0,0,1,1,1,1,0,0,1,0,1,1,1,1,1,1,1,\n",
    "                   1,1,1,1,1,1,1,1,1,0,1,1,0,1,1,0,1,1,1,0,0,0,0,0,0,1,\n",
    "                   0,0,0,1,1,0,0,1,0,0,1,1,0,0,0,1,1,1,0,0,0,0])"
   ]
  },
  {
   "cell_type": "markdown",
   "metadata": {},
   "source": [
    "## 3H1."
   ]
  },
  {
   "cell_type": "code",
   "execution_count": 35,
   "metadata": {},
   "outputs": [],
   "source": [
    "# specify the grid and the prior\n",
    "p_grid = np.linspace(0, 1, num=1000)\n",
    "prior = np.ones(1000)"
   ]
  },
  {
   "cell_type": "markdown",
   "metadata": {},
   "source": [
    "The question asks about the probability of giving birth to a boy. This means either birth is fine, we can sum them together. This means our binomial distribution (still binomial!) is going to have a total of 200 draws, the sum of birth1 + birth2 are the boys that are born."
   ]
  },
  {
   "cell_type": "code",
   "execution_count": 36,
   "metadata": {},
   "outputs": [
    {
     "data": {
      "text/plain": [
       "Text(0, 0.5, 'Density')"
      ]
     },
     "execution_count": 36,
     "metadata": {},
     "output_type": "execute_result"
    },
    {
     "data": {
      "image/png": "[encoded data removed]",
      "text/plain": [
       "<Figure size 432x288 with 1 Axes>"
      ]
     },
     "metadata": {
      "needs_background": "light"
     },
     "output_type": "display_data"
    }
   ],
   "source": [
    "number_draws = len(birth1) + len(birth2)\n",
    "number_boys = np.sum(birth1) + np.sum(birth2)\n",
    "likelihood = stats.binom.pmf(k=number_boys, n=number_draws, p=p_grid)\n",
    "\n",
    "# calculate the posterior and norm it\n",
    "posterior = prior * likelihood\n",
    "posterior /= np.sum(posterior)\n",
    "\n",
    "# Plot the posterior\n",
    "plt.plot(p_grid, posterior, '-')\n",
    "plt.xlabel('Probability of boy')\n",
    "plt.ylabel('Density')"
   ]
  },
  {
   "cell_type": "markdown",
   "metadata": {},
   "source": [
    "The parameter that maximizes the distribution is the *maximum a posteriori* (MAP) estimate, see chapter 3.2.3, Py Code 3.14. We can calculate the MAP for above posterior."
   ]
  },
  {
   "cell_type": "code",
   "execution_count": 37,
   "metadata": {},
   "outputs": [
    {
     "name": "stdout",
     "output_type": "stream",
     "text": [
      "The MAP of the posterior is 0.5546\n"
     ]
    }
   ],
   "source": [
    "prob_map = p_grid[np.argmax(posterior)]\n",
    "print('The MAP of the posterior is {0:.4f}'.format(prob_map))"
   ]
  },
  {
   "cell_type": "markdown",
   "metadata": {},
   "source": [
    "## 3H2."
   ]
  },
  {
   "cell_type": "code",
   "execution_count": 38,
   "metadata": {},
   "outputs": [
    {
     "name": "stdout",
     "output_type": "stream",
     "text": [
      "The 50% HDPI goes from p=0.53 to p=0.57.\n",
      "The 89% HDPI goes from p=0.50 to p=0.61.\n",
      "The 97% HDPI goes from p=0.48 to p=0.63.\n"
     ]
    }
   ],
   "source": [
    "# first select a random seed\n",
    "np.random.seed(42)\n",
    "\n",
    "# draw the samples\n",
    "samples = np.random.choice(p_grid, p=posterior, size=int(1e4), replace=True)\n",
    "\n",
    "# Create a function to plot and print the HPDI for a given confidence interval\n",
    "def calc_hdpi(ci):\n",
    "    value = pm.stats.hpd(samples, credible_interval=ci)\n",
    "    print('The {0:.0f}% HDPI goes from p={1:.2f} to p={2:.2f}.'.format(ci*100, value[0], \n",
    "                                                                       value[1]))\n",
    "\n",
    "# now use the defined function with the values in the book\n",
    "calc_hdpi(0.5)\n",
    "calc_hdpi(0.89)\n",
    "calc_hdpi(0.97)"
   ]
  },
  {
   "cell_type": "markdown",
   "metadata": {},
   "source": [
    "## 3H3."
   ]
  },
  {
   "cell_type": "code",
   "execution_count": 39,
   "metadata": {},
   "outputs": [
    {
     "data": {
      "text/plain": [
       "Text(0, 0.5, 'Frequency')"
      ]
     },
     "execution_count": 39,
     "metadata": {},
     "output_type": "execute_result"
    },
    {
     "data": {
      "image/png": "[encoded data removed]",
      "text/plain": [
       "<Figure size 432x288 with 1 Axes>"
      ]
     },
     "metadata": {
      "needs_background": "light"
     },
     "output_type": "display_data"
    }
   ],
   "source": [
    "# simulate the data with the samples that we've drawn above to simulate the data\n",
    "w = stats.binom.rvs(n=200, p=samples, size=int(1e4))\n",
    "\n",
    "# now plot a kernel density of these simulations\n",
    "sns.kdeplot(w)\n",
    "# plot a vertical line at 111 births, which is what our data above have as the sum\n",
    "plt.vlines(111, 0, 0.04, linestyle='--')\n",
    "# labels\n",
    "plt.xlabel('Number of boys out of 200 births')\n",
    "plt.ylabel('Frequency')"
   ]
  },
  {
   "cell_type": "markdown",
   "metadata": {},
   "source": [
    "The model seems to fit the data very well, the average distribution as shown in the plot above is basically what we had from the sum above, i.e., 111 boys out of 200 births."
   ]
  },
  {
   "cell_type": "markdown",
   "metadata": {},
   "source": [
    "## 3H4."
   ]
  },
  {
   "cell_type": "code",
   "execution_count": 40,
   "metadata": {},
   "outputs": [
    {
     "name": "stdout",
     "output_type": "stream",
     "text": [
      "Median value of model at 55 boys per 100 births.\n",
      "Sum of boys in birth1 array: 51\n"
     ]
    },
    {
     "data": {
      "image/png": "[encoded data removed]",
      "text/plain": [
       "<Figure size 432x288 with 1 Axes>"
      ]
     },
     "metadata": {
      "needs_background": "light"
     },
     "output_type": "display_data"
    }
   ],
   "source": [
    "# simulate 100 births usign the previously defined samples based on the whole dataset\n",
    "w = stats.binom.rvs(n=100, p=samples, size=int(1e4))\n",
    "\n",
    "# plot the results as a kde\n",
    "sns.kdeplot(w)\n",
    "# plot a vertical line at the sum of birth1\n",
    "plt.vlines(np.sum(birth1), 0, 0.065, linestyle='--')\n",
    "# labels\n",
    "plt.xlabel('Number of boys out of 100 births')\n",
    "plt.ylabel('Frequency')\n",
    "\n",
    "# calculate and print the max of the model\n",
    "print('Median value of model at {:d} boys per 100 births.'.format(int(np.median(w))))\n",
    "print('Sum of boys in birth1 array: {:d}'.format(np.sum(birth1)))"
   ]
  },
  {
   "cell_type": "markdown",
   "metadata": {},
   "source": [
    "The model overestimates the number of boys for the first child by 4."
   ]
  },
  {
   "cell_type": "markdown",
   "metadata": {},
   "source": [
    "## 3H5."
   ]
  },
  {
   "cell_type": "code",
   "execution_count": 41,
   "metadata": {},
   "outputs": [
    {
     "name": "stdout",
     "output_type": "stream",
     "text": [
      "Number of girls in first round of births: 49\n"
     ]
    }
   ],
   "source": [
    "# First let's count the number of girls in the birth1 array\n",
    "number_girls_b1 = np.sum(birth1 == 0)\n",
    "print('Number of girls in first round of births: {:d}'.format(number_girls_b1))"
   ]
  },
  {
   "cell_type": "code",
   "execution_count": 42,
   "metadata": {},
   "outputs": [
    {
     "name": "stdout",
     "output_type": "stream",
     "text": [
      "Number of boys following birhts of girls: 39\n"
     ]
    }
   ],
   "source": [
    "# Calculate how many boys follow these girls in birth1\n",
    "num_boys_after_girls = np.sum(birth2[np.where(birth1==0)])\n",
    "print('Number of boys following birhts of girls: {:d}'.format(num_boys_after_girls))"
   ]
  },
  {
   "cell_type": "code",
   "execution_count": 43,
   "metadata": {},
   "outputs": [
    {
     "name": "stdout",
     "output_type": "stream",
     "text": [
      "Model predicts that 27 boys should be born in birth2 following a girl in birth1\n"
     ]
    },
    {
     "data": {
      "image/png": "[encoded data removed]",
      "text/plain": [
       "<Figure size 432x288 with 1 Axes>"
      ]
     },
     "metadata": {
      "needs_background": "light"
     },
     "output_type": "display_data"
    }
   ],
   "source": [
    "# now we simulate that many births 10000 times, again weighted by our samples\n",
    "w = stats.binom.rvs(n=number_girls_b1, p=samples, size=int(1e4))\n",
    "\n",
    "# now plot a kde for simulations along with a line on how many boys followed girls\n",
    "sns.kdeplot(w, label='Model')\n",
    "plt.vlines(num_boys_after_girls, 0, 0.1, linestyle='--', label='Data')\n",
    "\n",
    "# labels\n",
    "plt.xlabel('Number of second born boys after first born girls')\n",
    "plt.ylabel('Frequency')\n",
    "plt.legend(loc='upper left')\n",
    "\n",
    "# print out the median of the model\n",
    "print('Model predicts that {:d} boys should be born in birth2 following a girl in '\n",
    "      'birth1'.format(int(np.median(w))))"
   ]
  },
  {
   "cell_type": "markdown",
   "metadata": {},
   "source": [
    "The model only predicts the birth of 27 boys following girls in birth 1, however, in fact there were 39 boys born following girls. This means that the data are in fact not independant."
   ]
  },
  {
   "cell_type": "code",
   "execution_count": null,
   "metadata": {},
   "outputs": [],
   "source": []
  }
 ],
 "metadata": {
  "kernelspec": {
   "display_name": "Python 3",
   "language": "python",
   "name": "python3"
  },
  "language_info": {
   "codemirror_mode": {
    "name": "ipython",
    "version": 3
   },
   "file_extension": ".py",
   "mimetype": "text/x-python",
   "name": "python",
   "nbconvert_exporter": "python",
   "pygments_lexer": "ipython3",
   "version": "3.7.6"
  }
 },
 "nbformat": 4,
 "nbformat_minor": 4
}
